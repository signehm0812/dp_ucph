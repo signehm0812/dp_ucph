{
 "cells": [
  {
   "cell_type": "markdown",
   "id": "round-collar",
   "metadata": {
    "slideshow": {
     "slide_type": "slide"
    }
   },
   "source": [
    "## Plan for today:\n",
    "\n",
    "Solve exercise 3 and 4\n",
    "\n",
    "* In particular we will solve the Buffer Stuck model using EGM (ex. 3)\n",
    "* We will estimate the structural parameters using maximum likelihood and GMM (ex. 4)"
   ]
  },
  {
   "cell_type": "markdown",
   "id": "buried-washer",
   "metadata": {
    "slideshow": {
     "slide_type": "slide"
    }
   },
   "source": [
    "# Exercise 3: The Buffer Stock Model\n",
    "\n",
    "Consider the model\n",
    "\n",
    "$$\n",
    "\\begin{eqnarray*}\n",
    "V_{t}(M_{t},P_{t}) & = & \\max_{C_{t}}\\frac{C_{t}^{1-\\rho}}{1-\\rho}+\\beta\\mathbb{E}_{t}\\left[V_{t+1}(M_{t+1},P_{t+1})\\right]\\\\\n",
    " & \\text{s.t.}\\\\\n",
    "A_{t} & = & M_{t}-C_{t}\\\\\n",
    "M_{t+1} & = & RA_{t}+Y_{t+1}\n",
    "\\end{eqnarray*}\n",
    "$$"
   ]
  },
  {
   "cell_type": "markdown",
   "id": "missing-burns",
   "metadata": {
    "slideshow": {
     "slide_type": "slide"
    }
   },
   "source": [
    "The new thing in the Buffer Stock model is how $Y_{t+1}$ is generated:\n",
    "\n",
    "\n",
    "\n",
    "$$\n",
    "\\begin{eqnarray*}\n",
    "M_{t+1} & = & RA_{t}+Y_{t+1}\\\\\n",
    "Y_{t+1} & = & \\xi_{t+1}P_{t+1}\\\\\n",
    "P_{t+1} & = & GP_{t}\\psi_{t+1}\\\\\n",
    "\\end{eqnarray*}\n",
    "$$\n",
    "\n",
    "$P_{t+1}$ is permanent income. "
   ]
  },
  {
   "cell_type": "code",
   "execution_count": 65,
   "id": "electoral-frame",
   "metadata": {
    "slideshow": {
     "slide_type": "slide"
    }
   },
   "outputs": [
    {
     "data": {
      "image/png": "[encoded data removed]",
      "text/plain": [
       "<Figure size 1080x360 with 1 Axes>"
      ]
     },
     "metadata": {},
     "output_type": "display_data"
    }
   ],
   "source": [
    "import numpy as np\n",
    "import matplotlib.pyplot as plt\n",
    "plt.style.use('seaborn-whitegrid')\n",
    "\n",
    "T = 60\n",
    "time = np.arange(20,20+60)\n",
    "G = 1.01\n",
    "psi_std = 0.01\n",
    "psi = np.exp(np.random.normal(-0.5*psi_std,psi_std,T))\n",
    "P = np.zeros(T)\n",
    "P[0] = 20000\n",
    "\n",
    "\n",
    "for t in range(1,T):\n",
    "    P[t] = P[t-1]*G*psi[t]\n",
    "    \n",
    "plt.figure(figsize=(15,5))\n",
    "plt.plot(time,P, color = \"red\")\n",
    "plt.suptitle('Permanent Income, $P_{t+1} = GP_{t}\\psi_{t+1}$', fontsize=20)\n",
    "plt.show()"
   ]
  },
  {
   "cell_type": "markdown",
   "id": "linear-proof",
   "metadata": {
    "slideshow": {
     "slide_type": "slide"
    }
   },
   "source": [
    "In the model we can also add pension by introducing a variable called, $L_t$:\n",
    "\n",
    "$$P_{t+1} = L_{t+1}GP_{t}\\psi_{t+1}$$\n",
    "\n",
    "This can create a large negative jump at age 65 for instance and make a flat income profile afterwards."
   ]
  },
  {
   "cell_type": "markdown",
   "id": "judicial-somerset",
   "metadata": {
    "slideshow": {
     "slide_type": "slide"
    }
   },
   "source": [
    "Next, permanent income feeds into the actual income by a transitory shock, $\\xi_{t+1}$:\n",
    "\n",
    "$$\n",
    "\\begin{eqnarray*}\n",
    "M_{t+1} & = & RA_{t}+Y_{t+1}\\\\\n",
    "Y_{t+1} & = & \\underbrace{\\xi_{t+1}}_{\\text{Transitory shock}}P_{t+1}\\\\\n",
    "P_{t+1} & = & GP_{t}\\psi_{t+1}\\\\\n",
    "\\end{eqnarray*}\n",
    "$$\n",
    "\n",
    "Notice, transitory shocks only has a one period effect on income. "
   ]
  },
  {
   "cell_type": "markdown",
   "id": "controlling-joining",
   "metadata": {
    "slideshow": {
     "slide_type": "slide"
    }
   },
   "source": [
    "Thus, the full model is:\n",
    "\n",
    "$$\n",
    "\\begin{eqnarray*}\n",
    "V_{t}(M_{t},P_{t}) & = & \\max_{C_{t}}\\frac{C_{t}^{1-\\rho}}{1-\\rho}+\\beta\\mathbb{E}_{t}\\left[V_{t+1}(M_{t+1},P_{t+1})\\right]\\\\\n",
    " & \\text{s.t.}\\\\\n",
    "A_{t} & = & M_{t}-C_{t}\\\\\n",
    "M_{t+1} & = & RA_{t}+Y_{t+1}\\\\\n",
    "Y_{t+1} & = & \\xi_{t+1}P_{t+1}\\\\\n",
    "P_{t+1} & = & GP_{t}\\psi_{t+1}\\\\\n",
    "A_{t} & \\geq & -\\lambda P_{t}\\\\\n",
    "A_{T} & \\geq & 0\n",
    "\\end{eqnarray*}\n",
    "$$\n",
    "\n",
    "We can allow for borrowing if $\\lambda>0$."
   ]
  },
  {
   "cell_type": "markdown",
   "id": "fatty-welding",
   "metadata": {
    "slideshow": {
     "slide_type": "slide"
    }
   },
   "source": [
    "* Introducing another state variable, $P_t$, is costly.\n",
    "* Instead, we can divide through with permanent income, $P_t$, and get the Bellman equation in ratio form:\n",
    "\n",
    "$$\\begin{eqnarray*}\n",
    "v_{t}(m_{t}) & = & \\max_{c_{t}}\\left\\{ \\frac{c_{t}^{1-\\rho}}{1-\\rho}+\\beta\\mathbb{E}_{t}\\left[(G \\psi_{t+1})^{1-\\rho}v_{t+1}(m_{t+1})\\right]\\right\\} \\\\\n",
    " & \\text{s.t.}\\\\\n",
    " a_t & = & m_t-c_t \\\\\n",
    "m_{t+1} & = & \\frac{1}{G \\psi_{t+1}}Ra_t+\\xi_{t+1}\\\\ \n",
    "a_t &\\geq& \\lambda_t =  \\begin{cases} \n",
    "-\\lambda & \\text{if $t$} < T_R\\\\\n",
    "0 & \\text{if $t$} \\geq T_R\n",
    "\\end{cases} \n",
    "\\end{eqnarray*}$$\n"
   ]
  },
  {
   "cell_type": "markdown",
   "id": "intellectual-literature",
   "metadata": {
    "slideshow": {
     "slide_type": "slide"
    }
   },
   "source": [
    "How do we estimate the model?\n",
    "\n",
    "We have learned two methods to estimate finite models:\n",
    "\n",
    "1) Backwards induction\n",
    "\n",
    "2) Time iteration\n",
    "\n",
    "3) Today: We will use EGM\n",
    "\n",
    "    \n"
   ]
  },
  {
   "cell_type": "markdown",
   "id": "communist-tours",
   "metadata": {
    "slideshow": {
     "slide_type": "slide"
    }
   },
   "source": [
    "Recall the first order condition (remember utility is $u(c_t)=\\frac{c_{t}^{1-\\rho}}{1-\\rho}$):\n",
    "\n",
    "$$\\underbrace{(c_{t})^{-\\rho}}_{\\text{marginal utility today}} =  \\underbrace{ \\beta R \\mathbb{E}_t \\left[ ( G \\psi_{t+1})^{-\\rho}\\left( c_{t+1}\\left( \\frac{R}{G \\psi_{t+1}}(m_t-c_t)+\\xi_{t+1} \\right)  \\right)^{-\\rho} \\right]}_{\\text{Expected marginal utility tomorrow}}$$\n",
    "\n",
    "The marginal utility today must be equal to the expected marginal utility tomorrow."
   ]
  },
  {
   "cell_type": "markdown",
   "id": "charming-swaziland",
   "metadata": {
    "slideshow": {
     "slide_type": "slide"
    }
   },
   "source": [
    "Recall in time iteration, we solved the equation for $c_t^*$ for a grid over $m_t$:\n",
    "\n",
    "$$\\underbrace{(c_{t}^*)^{-\\rho}}_{\\text{marginal utility today}} = \\underbrace{ \\beta R \\mathbb{E}_t \\left[ ( G \\psi_{t+1})^{-\\rho}\\left( c_{t+1}^*\\left( \\frac{R}{G \\psi_{t+1}}(m_t-c_t^*)+\\xi_{t+1} \\right)  \\right)^{-\\rho} \\right]}_{\\text{Expected marginal utility tomorrow}}$$\n",
    "\n",
    "We need a solver to find the solution $c_t^*$ for the different values of $m_t$.\n"
   ]
  },
  {
   "cell_type": "markdown",
   "id": "handy-strip",
   "metadata": {
    "slideshow": {
     "slide_type": "slide"
    }
   },
   "source": [
    "Instead, we can make a fixed grid over $a_t=m_t-c_t$:\n",
    "\n",
    "$$(c_{t})^{-\\rho} =  \\beta R \\mathbb{E}_t \\left[ ( G \\psi_{t+1})^{-\\rho}\\left( c_{t+1}\\left( \\frac{R}{G \\psi_{t+1}}a_t+\\xi_{t+1} \\right)  \\right)^{-\\rho} \\right]$$\n",
    "\n",
    "Then we can get a closed form solution for $c_{t}$:\n",
    "\n",
    "$$c_{t}^* =   \\mathbb{E}_t \\left[\\beta R ( G \\psi_{t+1})^{-\\rho}\\left( c_{t+1}^*\\left( \\frac{R}{G \\psi_{t+1}}a_t+\\xi_{t+1} \\right)  \\right)^{-\\rho} \\right]^{-1/\\rho} $$\n",
    "\n",
    "And finally back out what $m_t$ is:\n",
    "\n",
    "$$m_t=a_t+c_t$$\n",
    "\n",
    "This is the EGM procedure!"
   ]
  }
 ],
 "metadata": {
  "celltoolbar": "Slideshow",
  "kernelspec": {
   "display_name": "Python 3",
   "language": "python",
   "name": "python3"
  },
  "language_info": {
   "codemirror_mode": {
    "name": "ipython",
    "version": 3
   },
   "file_extension": ".py",
   "mimetype": "text/x-python",
   "name": "python",
   "nbconvert_exporter": "python",
   "pygments_lexer": "ipython3",
   "version": "3.7.9"
  }
 },
 "nbformat": 4,
 "nbformat_minor": 5
}
