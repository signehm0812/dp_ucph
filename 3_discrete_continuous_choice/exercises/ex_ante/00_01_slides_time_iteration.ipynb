{
 "cells": [
  {
   "cell_type": "markdown",
   "id": "round-collar",
   "metadata": {
    "slideshow": {
     "slide_type": "slide"
    }
   },
   "source": [
    "## Plan for today:\n",
    "\n",
    "Solve exercise 1 and 2, which introduces both discrete and continues choice\n",
    "\n",
    "* In particular we will solve a consumption-saving model with a discrete labour choice (ex. 1)\n",
    "* We will learn to do time iteration as an alternative to VFI  (ex. 2)"
   ]
  },
  {
   "cell_type": "markdown",
   "id": "missing-burns",
   "metadata": {
    "slideshow": {
     "slide_type": "slide"
    }
   },
   "source": [
    "# Exercise 2: Time iteration\n",
    "\n",
    "Consider the model\n",
    "$$\\begin{eqnarray*}\n",
    "V_{t}(M_{t}) & = & \\max_{C_{t}}\\left\\{ \\frac{C_{t}^{1-\\rho}}{1-\\rho}+\\beta\\mathbb{E}_{t}\\left[V_{t+1}(M_{t+1})\\right]\\right\\} \\\\\n",
    " & \\text{s.t.}\\\\\n",
    "M_{t+1} & = & R(M_{t}-C_{t})+Y_{t+1}\\\\\n",
    "Y_{t+1} & = & \\exp(\\xi_{t+1})\\\\\n",
    "\\xi_{t+1} & = & \\mathcal{N}(0,\\sigma_{\\xi}^{2})\\\\\n",
    "A_{t}=M_{t}-C_{t} & \\geq & 0\n",
    "\\end{eqnarray*}$$\n",
    "\n",
    "for $T=10$, $\\beta=0.98$, $\\rho=0.5$, $R=1.0/\\beta$, $M_1=10$ and $\\sigma_{\\xi}=0.2$.\n",
    "\n",
    "Normally we use backwards induction to solve the model, however today we will look at time iteration."
   ]
  },
  {
   "cell_type": "markdown",
   "id": "buried-washer",
   "metadata": {
    "slideshow": {
     "slide_type": "slide"
    }
   },
   "source": [
    "How does it work?\n",
    "\n",
    "Remember the (determinstic) Euler equation from microeconomics:\n",
    "\n",
    "$$\\underbrace{u'(C_{it}^*)}_{\\text{marginal utility today}} = \\underbrace{\\beta R u'(C_{it+1}^*)}_{\\text{marginal utility tomorrow}}$$\n",
    "\n",
    "The marginal utility today must be equal to the marginal utility tomorrow."
   ]
  },
  {
   "cell_type": "markdown",
   "id": "intellectual-literature",
   "metadata": {
    "slideshow": {
     "slide_type": "slide"
    }
   },
   "source": [
    "In the stochastic case the Euler equation becomes:\n",
    "    \n",
    "$$\\underbrace{u'(C_{it}^*)}_{\\text{marginal utility today}} = \\underbrace{\\beta R \\sum_{k=1}^K w_k u'(C_{it+1}^*(R(M_{it}-C_{it}^*)+y_{it+1}^k))}_{\\text{Expected marginal utility tomorrow}}$$\n",
    "\n",
    "The marginal utility today must be equal to the expected marginal utility tomorrow.\n",
    "\n",
    "Why not use this concept to find a solution to my model?"
   ]
  },
  {
   "cell_type": "markdown",
   "id": "charming-swaziland",
   "metadata": {
    "slideshow": {
     "slide_type": "slide"
    }
   },
   "source": [
    "We can define the so called Euler residual and set it equal to zero.\n",
    "\n",
    "$$\\epsilon_{it} =u'(C_{it}^*) -\\beta R \\sum_{k=1}^K w_k u'(C_{it+1}^*(R(M_{it}-C_{it}^*)+y_{it+1}^k))=0$$"
   ]
  },
  {
   "cell_type": "markdown",
   "id": "handy-strip",
   "metadata": {
    "slideshow": {
     "slide_type": "slide"
    }
   },
   "source": [
    "Now it is your turn to work on the problem set."
   ]
  }
 ],
 "metadata": {
  "celltoolbar": "Slideshow",
  "kernelspec": {
   "display_name": "Python 3",
   "language": "python",
   "name": "python3"
  },
  "language_info": {
   "codemirror_mode": {
    "name": "ipython",
    "version": 3
   },
   "file_extension": ".py",
   "mimetype": "text/x-python",
   "name": "python",
   "nbconvert_exporter": "python",
   "pygments_lexer": "ipython3",
   "version": "3.7.9"
  }
 },
 "nbformat": 4,
 "nbformat_minor": 5
}
