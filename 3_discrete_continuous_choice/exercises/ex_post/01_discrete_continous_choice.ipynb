{
 "cells": [
  {
   "cell_type": "code",
   "execution_count": null,
   "metadata": {},
   "outputs": [],
   "source": [
    "# magics: ensures that any changes to the modules loaded below will be re-loaded automatically\n",
    "%load_ext autoreload\n",
    "%autoreload 2\n",
    "\n",
    "# load general packages\n",
    "import numpy as np\n",
    "import matplotlib.pyplot as plt\n",
    "plt.style.use('seaborn-whitegrid')\n",
    "\n",
    "# load modules related to this exercise\n",
    "import Exercise_1 as ex1"
   ]
  },
  {
   "cell_type": "markdown",
   "metadata": {},
   "source": [
    "# Exercise 1: Discrete Continous Choice\n",
    "Consider the model\n",
    "\n",
    "$$\\begin{eqnarray*}\n",
    "V_{t}(M_{t},\\varepsilon_t^{0},\\varepsilon_t^{1}) & = & \\max_{L_{t}\\in\\{0,1\\}}\\left\\{\\mathcal{V}_t(M_t,L_t)+\\sigma_{\\varepsilon}\\varepsilon_t^{L_t} \\right\\} \\\\ \n",
    "\\mathcal{V}_{t}(M_{t},L_{t}) & = & \\max_{C_{t}}\\left\\{ \\frac{C_{t}^{1-\\rho}}{1-\\rho}-\\lambda L_t+\\beta\\mathbb{E}_{t}\\left[V_{t+1}(\\bullet_{t+1})\\right]\\right\\} \\\\\n",
    "& \\text{s.t.}\\\\\n",
    "M_{t+1} & = & R(M_{t}-C_{t})+W\\cdot L_{t}\\\\\n",
    "\\end{eqnarray*}$$\n",
    "\n",
    "for $T=10$, $\\beta=0.98$, $\\rho=0.5$, $\\lambda=1.3$, $R=1.0/\\beta$, $W=1$, $\\sigma_{\\varepsilon}=0.5$, and $\\xi_t^0$ and $\\xi_t^1$ are *Extreme Value Type I* such that:\n",
    "\n",
    "$$\n",
    "\\mathbb{E}[V_t(M_t,\\varepsilon_t^0,\\varepsilon_t^1 )\\mid M_t] = \\sigma_{\\varepsilon} \\log \\Big(\\sum_{j \\in \\{0,1\\}} \\exp\\Big(\\frac{\\mathcal{V}{t}(M_{t},L_{t})}{\\sigma_{\\varepsilon}}\\Big)     \\Big) \\equiv \\text{logsum} \\big(\\mathcal{V}{t}(M_{t},\\bullet)\\big)\n",
    "$$"
   ]
  },
  {
   "cell_type": "markdown",
   "metadata": {},
   "source": [
    "### 1. Solve the model using your prefered method"
   ]
  },
  {
   "cell_type": "code",
   "execution_count": null,
   "metadata": {},
   "outputs": [],
   "source": [
    "# Setup\n",
    "par = ex1.setup()\n",
    "# Solve\n",
    "sol = ex1.solve_DC(par)"
   ]
  },
  {
   "cell_type": "markdown",
   "metadata": {},
   "source": [
    "#### 2. Plot the choice-specific value functions in period 1 and the optimal choice of $L_1$ for $ \\varepsilon_t^0= \\varepsilon_t^1 = 0$"
   ]
  },
  {
   "cell_type": "code",
   "execution_count": null,
   "metadata": {},
   "outputs": [],
   "source": [
    "fig = plt.figure(figsize=(20,6)) \n",
    "\n",
    "# Choice specific value function\n",
    "ax = fig.add_subplot(1,2,1)\n",
    "ax.plot(par.grid_M,sol.V[0,:,0])\n",
    "ax.plot(par.grid_M,sol.V[1,:,0])\n",
    "ax.set_title(f'Choice specific value function in period $t=1$')\n",
    "ax.set_xlabel(\"$M_1$\")\n",
    "ax.set_ylabel(f'$V_1$')\n",
    "plt.legend((f'$L_t=0$',f'$L_t=1$'))\n",
    "\n",
    "\n",
    "# Optimal labor choice\n",
    "L = sol.V[1,:,0] > sol.V[0,:,0]\n",
    "\n",
    "ax = fig.add_subplot(1,2,2)\n",
    "ax.plot(par.grid_M,L, ls ='--')\n",
    "ax.set_title(f'The optimal choice of $L_1$ in $t=1$')\n",
    "ax.set_xlabel(\"$M_1$\")\n",
    "ax.set_ylabel(f'$V_1$')\n",
    "\n",
    "\n",
    "plt.show()"
   ]
  },
  {
   "cell_type": "markdown",
   "metadata": {},
   "source": [
    "#### 3. Simulate from the model using that\n",
    "$$\\begin{eqnarray*}\n",
    "Pr(L_t=1 \\mid M_t) & = & Pr[\\mathcal{V}_t(M_t,1)-\\mathcal{V}_t(M_t,0) \\geq \\sigma_{\\varepsilon}(\\varepsilon_t^0-\\varepsilon_t^1)] \\\\\n",
    "& = & \\frac{\\exp(\\mathcal{V}_t(M_t,1)/\\sigma_{\\varepsilon})}{\\sum_{j \\in \\{0,1\\}} \\exp(\\mathcal{V}_t(M_t,j)/\\sigma_{\\varepsilon})}\n",
    "\\end{eqnarray*}$$"
   ]
  },
  {
   "cell_type": "code",
   "execution_count": null,
   "metadata": {},
   "outputs": [],
   "source": [
    "sim = ex1.simulate(par,sol)"
   ]
  },
  {
   "cell_type": "markdown",
   "metadata": {},
   "source": [
    "#### 4. Plot the frequency of $L_t = 1$."
   ]
  },
  {
   "cell_type": "code",
   "execution_count": null,
   "metadata": {},
   "outputs": [],
   "source": [
    "fig = plt.figure(figsize=(10,4)) \n",
    "ax = fig.add_subplot(1,1,1)\n",
    "t_grid = [t for t in range(1,par.T+1)]\n",
    "\n",
    "ax.plot(t_grid,np.mean(sim.L,axis=0))\n",
    "ax.set_title(f'Mean of L')\n",
    "ax.set_xlabel(\"$t$\")\n",
    "\n",
    "plt.show()"
   ]
  },
  {
   "cell_type": "markdown",
   "metadata": {},
   "source": [
    "#### 5. Redo exercise for increasing values of $\\sigma_{\\varepsilon}$. What happens to the frequency of $L_t = 1$?"
   ]
  },
  {
   "cell_type": "code",
   "execution_count": null,
   "metadata": {},
   "outputs": [],
   "source": [
    "sigma_vec = np.array([0.1,0.3,0.5,0.9,10])           # Define a vector of different sigma values\n",
    "mean_L = np.nan + np.zeros((par.T, sigma_vec.size))  # Initialize a matrix to store the solution\n",
    "\n",
    "for i,num in enumerate(sigma_vec):\n",
    "    par = ex1.setup()\n",
    "    par.sigma = num\n",
    "    sol = ex1.solve_DC(par)\n",
    "    sim = ex1.simulate(par,sol)\n",
    "    mean_L[:,i]=np.mean(sim.L,axis=0)"
   ]
  },
  {
   "cell_type": "code",
   "execution_count": null,
   "metadata": {},
   "outputs": [],
   "source": [
    "fig = plt.figure(figsize=(10,4)) \n",
    "ax = fig.add_subplot(1,1,1)\n",
    "t_grid = [t for t in range(1,par.T+1)]\n",
    "\n",
    "ax.set_title(f'Mean of L')\n",
    "ax.set_xlabel(\"$t$\")\n",
    "for i, num in enumerate(sigma_vec):\n",
    "    ax.plot(t_grid,mean_L[:,i],label=f'$\\sigma={num}$')\n",
    "plt.legend(loc=3, ncol=1)\n",
    "\n",
    "plt.show()"
   ]
  }
 ],
 "metadata": {
  "kernelspec": {
   "display_name": "Python 3",
   "language": "python",
   "name": "python3"
  },
  "language_info": {
   "codemirror_mode": {
    "name": "ipython",
    "version": 3
   },
   "file_extension": ".py",
   "mimetype": "text/x-python",
   "name": "python",
   "nbconvert_exporter": "python",
   "pygments_lexer": "ipython3",
   "version": "3.7.9"
  }
 },
 "nbformat": 4,
 "nbformat_minor": 4
}
